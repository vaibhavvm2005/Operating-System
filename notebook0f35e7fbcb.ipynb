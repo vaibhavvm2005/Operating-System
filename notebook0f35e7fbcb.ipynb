{
 "cells": [
  {
   "cell_type": "code",
   "execution_count": 1,
   "id": "194aee55",
   "metadata": {
    "_cell_guid": "b1076dfc-b9ad-4769-8c92-a6c4dae69d19",
    "_uuid": "8f2839f25d086af736a60e9eeb907d3b93b6e0e5",
    "execution": {
     "iopub.execute_input": "2024-11-22T13:11:55.796021Z",
     "iopub.status.busy": "2024-11-22T13:11:55.795486Z",
     "iopub.status.idle": "2024-11-22T13:11:56.758890Z",
     "shell.execute_reply": "2024-11-22T13:11:56.757581Z"
    },
    "papermill": {
     "duration": 0.969677,
     "end_time": "2024-11-22T13:11:56.761340",
     "exception": false,
     "start_time": "2024-11-22T13:11:55.791663",
     "status": "completed"
    },
    "tags": []
   },
   "outputs": [],
   "source": [
    "# This Python 3 environment comes with many helpful analytics libraries installed\n",
    "# It is defined by the kaggle/python Docker image: https://github.com/kaggle/docker-python\n",
    "# For example, here's several helpful packages to load\n",
    "\n",
    "import numpy as np # linear algebra\n",
    "import pandas as pd # data processing, CSV file I/O (e.g. pd.read_csv)\n",
    "\n",
    "# Input data files are available in the read-only \"../input/\" directory\n",
    "# For example, running this (by clicking run or pressing Shift+Enter) will list all files under the input directory\n",
    "\n",
    "import os\n",
    "for dirname, _, filenames in os.walk('/kaggle/input'):\n",
    "    for filename in filenames:\n",
    "        print(os.path.join(dirname, filename))\n",
    "\n",
    "# You can write up to 20GB to the current directory (/kaggle/working/) that gets preserved as output when you create a version using \"Save & Run All\" \n",
    "# You can also write temporary files to /kaggle/temp/, but they won't be saved outside of the current session"
   ]
  },
  {
   "cell_type": "code",
   "execution_count": 2,
   "id": "c9182ab1",
   "metadata": {
    "execution": {
     "iopub.execute_input": "2024-11-22T13:11:56.767392Z",
     "iopub.status.busy": "2024-11-22T13:11:56.766516Z",
     "iopub.status.idle": "2024-11-22T13:11:56.772497Z",
     "shell.execute_reply": "2024-11-22T13:11:56.771362Z"
    },
    "papermill": {
     "duration": 0.011238,
     "end_time": "2024-11-22T13:11:56.774805",
     "exception": false,
     "start_time": "2024-11-22T13:11:56.763567",
     "status": "completed"
    },
    "tags": []
   },
   "outputs": [
    {
     "name": "stdout",
     "output_type": "stream",
     "text": [
      "hello wo\n",
      "hiiiii\n"
     ]
    }
   ],
   "source": [
    "print(\"hello wo\")\n",
    "print(\"hiiiii\")"
   ]
  },
  {
   "cell_type": "code",
   "execution_count": null,
   "id": "49ad2a0f",
   "metadata": {
    "papermill": {
     "duration": 0.001527,
     "end_time": "2024-11-22T13:11:56.778321",
     "exception": false,
     "start_time": "2024-11-22T13:11:56.776794",
     "status": "completed"
    },
    "tags": []
   },
   "outputs": [],
   "source": []
  }
 ],
 "metadata": {
  "kaggle": {
   "accelerator": "none",
   "dataSources": [],
   "dockerImageVersionId": 30786,
   "isGpuEnabled": false,
   "isInternetEnabled": false,
   "language": "python",
   "sourceType": "notebook"
  },
  "kernelspec": {
   "display_name": "Python 3",
   "language": "python",
   "name": "python3"
  },
  "language_info": {
   "codemirror_mode": {
    "name": "ipython",
    "version": 3
   },
   "file_extension": ".py",
   "mimetype": "text/x-python",
   "name": "python",
   "nbconvert_exporter": "python",
   "pygments_lexer": "ipython3",
   "version": "3.10.14"
  },
  "papermill": {
   "default_parameters": {},
   "duration": 4.253877,
   "end_time": "2024-11-22T13:11:57.300798",
   "environment_variables": {},
   "exception": null,
   "input_path": "__notebook__.ipynb",
   "output_path": "__notebook__.ipynb",
   "parameters": {},
   "start_time": "2024-11-22T13:11:53.046921",
   "version": "2.6.0"
  }
 },
 "nbformat": 4,
 "nbformat_minor": 5
}
